{
 "cells": [
  {
   "cell_type": "markdown",
   "id": "b82c6ef0",
   "metadata": {},
   "source": [
    "# question 1"
   ]
  },
  {
   "cell_type": "code",
   "execution_count": null,
   "id": "14634732",
   "metadata": {},
   "outputs": [],
   "source": [
    "SELECT customer.cust_name AS \"Customer\",\n",
    "customer.grade AS \"Grade\",orders.ord_no AS \"Order No.\"\n",
    "FROM orders, salesman, customer\n",
    "WHERE orders.customer_id = customer.customer_id\n",
    "AND orders.salesman_id = salesman.salesman_id\n",
    "AND salesman.city IS NOT NULL\n",
    "AND customer.grade IS NOT NULL;"
   ]
  },
  {
   "cell_type": "markdown",
   "id": "86c63ad4",
   "metadata": {},
   "source": [
    "# Question 2 "
   ]
  },
  {
   "cell_type": "code",
   "execution_count": null,
   "id": "e6e2a052",
   "metadata": {},
   "outputs": [],
   "source": [
    "SELECT ord_no, purch_amt, ord_date, salesman_id \n",
    "FROM orders \n",
    "WHERE salesman_id IN(\n",
    "SELECT salesman_id \n",
    "FROM salesman\n",
    "WHERE commission = (\n",
    "SELECT MAX(commission) \n",
    "FROM salesman));"
   ]
  },
  {
   "cell_type": "markdown",
   "id": "c4c773ba",
   "metadata": {},
   "source": [
    "#  Question 3"
   ]
  },
  {
   "cell_type": "code",
   "execution_count": null,
   "id": "70809736",
   "metadata": {},
   "outputs": [],
   "source": [
    "SELECT ord_no, purch_amt, ord_date, salesman_id\n",
    "FROM orders\n",
    "WHERE salesman_id IN\n",
    "    (SELECT salesman_id \n",
    "     FROM salesman \n",
    "     WHERE city='nagpur');"
   ]
  },
  {
   "cell_type": "markdown",
   "id": "9d0640aa",
   "metadata": {},
   "source": [
    "# Question 4"
   ]
  },
  {
   "cell_type": "code",
   "execution_count": null,
   "id": "896f0334",
   "metadata": {},
   "outputs": [],
   "source": [
    "SELECT ord_date, SUM(purch_amt), \n",
    "SUM(purch_amt)*.15 \n",
    "FROM orders \n",
    "GROUP BY ord_date \n",
    "ORDER BY ord_date ASC;"
   ]
  },
  {
   "cell_type": "markdown",
   "id": "f7ac6f80",
   "metadata": {},
   "source": [
    "# Question 5"
   ]
  },
  {
   "cell_type": "code",
   "execution_count": null,
   "id": "7f821af9",
   "metadata": {},
   "outputs": [],
   "source": [
    "SELECT ord_no, purch_amt, ord_date, salesman_id\n",
    "FROM orders\n",
    "WHERE purch_amt >(SELECT  AVG(purch_amt) FROM orders );"
   ]
  },
  {
   "cell_type": "markdown",
   "id": "eda34c07",
   "metadata": {},
   "source": [
    "# Question 6"
   ]
  },
  {
   "cell_type": "code",
   "execution_count": null,
   "id": "be9183d6",
   "metadata": {},
   "outputs": [],
   "source": [
    "select * from orders ORDER BY purch_amt desc limit 4,1;"
   ]
  },
  {
   "cell_type": "markdown",
   "id": "377488b0",
   "metadata": {},
   "source": [
    "# Question 7"
   ]
  },
  {
   "cell_type": "markdown",
   "id": "d6363143",
   "metadata": {},
   "source": [
    "entity – entity can be real-world object. it is a collection of related attributes or properties.example: employee, department, etc. Strong Entity –An entity that has a primary key is called as Strong entity. Rectangle represents strong entity.  Weak Entity –Weak entity doesn’t have sufficient attributes to form a primary key of its own.  Double rectangle represents weak entity.The entity-relationship (ER) model is used to design relational databases by removing all existing redundancy in the data. The basic object of the ER model is an entity—that is, a real-world object. Each entity has several attributes, which are properties of the entity and therefore describe it"
   ]
  },
  {
   "cell_type": "markdown",
   "id": "9eff2b35",
   "metadata": {},
   "source": [
    "# Question 8"
   ]
  },
  {
   "cell_type": "code",
   "execution_count": null,
   "id": "d5d58025",
   "metadata": {},
   "outputs": [],
   "source": [
    "Select Customer_id , ba.Account_Number,\n",
    "Case when ifnull(Balance_amount,0) = 0 then   Transaction_amount else Balance_amount end  as Balance_amount\n",
    "from bank_account_details ba  \n",
    "inner join\n",
    "bank_account_transaction bat\n",
    "on ba.Account_Number = bat.Account_Number\n",
    "and Account_type = \"Credit Card\";"
   ]
  },
  {
   "cell_type": "markdown",
   "id": "2edb32cc",
   "metadata": {},
   "source": [
    "# Question 9"
   ]
  },
  {
   "cell_type": "code",
   "execution_count": null,
   "id": "332b6837",
   "metadata": {},
   "outputs": [],
   "source": [
    "Select\n",
    "ba.Customer_id, ba.Account_Number, Balance_amount, Transaction_amount, Transaction_Date\n",
    "from bank_account_details ba  \n",
    "inner join\n",
    "bank_account_transaction bat\n",
    "on ba.Account_Number = bat.Account_Number\n",
    "And ( Transaction_Date between \"2020-03-01\" and \"2020-04-30\");"
   ]
  },
  {
   "cell_type": "markdown",
   "id": "2c852d89",
   "metadata": {},
   "source": [
    "# Question 10"
   ]
  },
  {
   "cell_type": "code",
   "execution_count": null,
   "id": "68e663fa",
   "metadata": {},
   "outputs": [],
   "source": [
    "Select ba.Customer_id, ba.Account_Number, Balance_amount, Transaction_amount, Transaction_Date\n",
    "from bank_account_details ba   \n",
    "Left join bank_account_transaction bat\n",
    "on ba.Account_Number = bat.Account_Number\n",
    "And NOT (Transaction_Date between \"2020-03-01\" and \"2020-03-31\")"
   ]
  }
 ],
 "metadata": {
  "kernelspec": {
   "display_name": "Python 3 (ipykernel)",
   "language": "python",
   "name": "python3"
  },
  "language_info": {
   "codemirror_mode": {
    "name": "ipython",
    "version": 3
   },
   "file_extension": ".py",
   "mimetype": "text/x-python",
   "name": "python",
   "nbconvert_exporter": "python",
   "pygments_lexer": "ipython3",
   "version": "3.9.7"
  }
 },
 "nbformat": 4,
 "nbformat_minor": 5
}
